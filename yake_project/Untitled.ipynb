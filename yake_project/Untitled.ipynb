{
 "cells": [
  {
   "cell_type": "code",
   "execution_count": 12,
   "id": "551d4c1b",
   "metadata": {
    "scrolled": true
   },
   "outputs": [],
   "source": [
    "import yake\n",
    "\n",
    "def extract_top_keywords(text, language=\"pt-br\", max_ngram_size=2, deduplication_threshold=0.1, deduplication_algo='seqm', window_size=1, num_of_keywords=5):\n",
    "    if not isinstance(text, str):\n",
    "        raise ValueError(\"Input must be a string\")\n",
    "\n",
    "    try:\n",
    "        custom_kw_extractor = yake.KeywordExtractor(lan=language, n=max_ngram_size, dedupLim=deduplication_threshold, dedupFunc=deduplication_algo, windowsSize=window_size, top=num_of_keywords, features=None)\n",
    "    except ModuleNotFoundError:\n",
    "        raise ModuleNotFoundError(\"YAKE library not installed\")\n",
    "\n",
    "    keywords = custom_kw_extractor.extract_keywords(text)\n",
    "\n",
    "    top_keywords = [kw[0] for kw in keywords]\n",
    "\n",
    "    return top_keywords"
   ]
  },
  {
   "cell_type": "code",
   "execution_count": 13,
   "id": "a185a25b",
   "metadata": {},
   "outputs": [
    {
     "name": "stdout",
     "output_type": "stream",
     "text": [
      "['Consumidor Amplo', 'Índice Nacional', 'IBGE', 'país']\n"
     ]
    }
   ],
   "source": [
    "input_text = \"O Índice Nacional de Preços ao Consumidor Amplo (IPCA), considerado a inflação oficial do país, mostra que os preços subiram 0,46% em maio, segundo dados divulgados nesta terça-feira (11) pelo Instituto Brasileiro de Geografia e Estatística (IBGE). A alta nos preços foi puxada, sobretudo, por um avanço no grupo de Alimentação e bebidas, que subiu 0,62% na comparação com abril. Dentro do grupo, destaque para os tubérculos, raízes e legumes, principalmente a batata, que disparou 20,61% em um mês. Segundo o IBGE, as maiores cheias da história que foram registradas no Rio Grande do Sul no mês passado já começam a mostrar seus impactos na economia brasileira, contribuindo para o avanço da inflação. O peso da capital Porto Alegre na inflação brasileira é de 8,61%, segundo André Almeida, gerente da pesquisa, atrás apenas de São Paulo, Rio de Janeiro e Belo Horizonte.\"\n",
    "\n",
    "top_keywords = extract_top_keywords(input_text)\n",
    "\n",
    "print(top_keywords)"
   ]
  },
  {
   "cell_type": "code",
   "execution_count": null,
   "id": "2ed29546",
   "metadata": {},
   "outputs": [],
   "source": []
  },
  {
   "cell_type": "code",
   "execution_count": null,
   "id": "9ed21328",
   "metadata": {},
   "outputs": [],
   "source": []
  }
 ],
 "metadata": {
  "kernelspec": {
   "display_name": "Python 3 (ipykernel)",
   "language": "python",
   "name": "python3"
  },
  "language_info": {
   "codemirror_mode": {
    "name": "ipython",
    "version": 3
   },
   "file_extension": ".py",
   "mimetype": "text/x-python",
   "name": "python",
   "nbconvert_exporter": "python",
   "pygments_lexer": "ipython3",
   "version": "3.10.12"
  }
 },
 "nbformat": 4,
 "nbformat_minor": 5
}
