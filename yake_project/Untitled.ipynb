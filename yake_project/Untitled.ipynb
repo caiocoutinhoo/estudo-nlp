{
 "cells": [
  {
   "cell_type": "code",
   "execution_count": 20,
   "id": "b0fce935",
   "metadata": {},
   "outputs": [
    {
     "name": "stderr",
     "output_type": "stream",
     "text": [
      "[nltk_data] Downloading package stopwords to\n",
      "[nltk_data]     /home/caiocoutinho/nltk_data...\n",
      "[nltk_data]   Package stopwords is already up-to-date!\n"
     ]
    }
   ],
   "source": [
    "import nltk\n",
    "import re\n",
    "nltk.download('stopwords')\n",
    "\n",
    "def pre_processamento(texto):\n",
    "  \n",
    "    # seleciona apenas letras e coloca todas em minúsculo \n",
    "    letras_min =  re.findall(r'\\b[A-zÀ-úü]+\\b', texto.lower())\n",
    "\n",
    "    # remove stopwords\n",
    "    stopwords = nltk.corpus.stopwords.words('portuguese')\n",
    "    stop = set(stopwords)\n",
    "    sem_stopwords = [w for w in letras_min if w not in stop]\n",
    "\n",
    "    # juntando os tokens novamente em formato de texto\n",
    "    texto_limpo = \" \".join(sem_stopwords)\n",
    "\n",
    "    return texto_limpo"
   ]
  },
  {
   "cell_type": "code",
   "execution_count": 91,
   "id": "2fa44673",
   "metadata": {
    "scrolled": true
   },
   "outputs": [],
   "source": [
    "import yake\n",
    "\n",
    "def extract_top_keywords(text, language=\"pt-br\", max_ngram_size=2, deduplication_threshold=0.1, deduplication_algo='seqm', window_size=1, num_of_keywords=6):\n",
    "    if not isinstance(text, str):\n",
    "        raise ValueError(\"Input must be a string\")\n",
    "\n",
    "    try:\n",
    "        custom_kw_extractor = yake.KeywordExtractor(lan=language, n=max_ngram_size, dedupLim=deduplication_threshold, dedupFunc=deduplication_algo, windowsSize=window_size, top=num_of_keywords, features=None)\n",
    "    except ModuleNotFoundError:\n",
    "        raise ModuleNotFoundError(\"YAKE library not installed\")\n",
    "\n",
    "    keywords = custom_kw_extractor.extract_keywords(text)\n",
    "\n",
    "    top_keywords = [kw[0] for kw in keywords]\n",
    "\n",
    "    return top_keywords"
   ]
  },
  {
   "cell_type": "code",
   "execution_count": 82,
   "id": "02d1bc41",
   "metadata": {},
   "outputs": [
    {
     "name": "stdout",
     "output_type": "stream",
     "text": [
      "['Consumidor Amplo', 'Índice Nacional', 'IBGE', 'país']\n"
     ]
    }
   ],
   "source": [
    "input_text = \"O Índice Nacional de Preços ao Consumidor Amplo (IPCA), considerado a inflação oficial do país, mostra que os preços subiram 0,46% em maio, segundo dados divulgados nesta terça-feira (11) pelo Instituto Brasileiro de Geografia e Estatística (IBGE). A alta nos preços foi puxada, sobretudo, por um avanço no grupo de Alimentação e bebidas, que subiu 0,62% na comparação com abril. Dentro do grupo, destaque para os tubérculos, raízes e legumes, principalmente a batata, que disparou 20,61% em um mês. Segundo o IBGE, as maiores cheias da história que foram registradas no Rio Grande do Sul no mês passado já começam a mostrar seus impactos na economia brasileira, contribuindo para o avanço da inflação. O peso da capital Porto Alegre na inflação brasileira é de 8,61%, segundo André Almeida, gerente da pesquisa, atrás apenas de São Paulo, Rio de Janeiro e Belo Horizonte.\"\n",
    "\n",
    "top_keywords = extract_top_keywords(input_text)\n",
    "\n",
    "print(top_keywords)"
   ]
  },
  {
   "cell_type": "code",
   "execution_count": 83,
   "id": "3e72d02c",
   "metadata": {},
   "outputs": [],
   "source": [
    "from requests_html import HTMLSession\n",
    "\n",
    "def extract_text(url):\n",
    "    s = HTMLSession()\n",
    "    response = s.get(url)\n",
    "    # Encontra todos os elementos <p> e extrai o texto de cada um\n",
    "    paragrafos = response.html.find('p')\n",
    "    # Obtém o texto de cada parágrafo e remove os que estiverem vazios\n",
    "    paragrafos_texto = [p.text for p in paragrafos if p.text.strip()]\n",
    "    return paragrafos_texto\n"
   ]
  },
  {
   "cell_type": "code",
   "execution_count": 84,
   "id": "36bf83ec",
   "metadata": {},
   "outputs": [
    {
     "name": "stdout",
     "output_type": "stream",
     "text": [
      "['latim liber', 'objeto transportável', 'páginas', 'concebido']\n"
     ]
    }
   ],
   "source": [
    "top_keywords = extract_top_keywords(texto)\n",
    "\n",
    "print(top_keywords)"
   ]
  },
  {
   "cell_type": "code",
   "execution_count": 92,
   "id": "7f2b6b14",
   "metadata": {},
   "outputs": [
    {
     "name": "stdout",
     "output_type": "stream",
     "text": [
      "Parágrafo 1:\n",
      "Livro (do latim liber, libri[1]) é um objeto transportável, composto por páginas encadernadas, contendo texto manuscrito ou impresso e/ou imagens e que forma uma publicação unitária (ou foi concebido como tal) ou a parte principal de um trabalho literário, científico ou outro, formando um volume.\n",
      "\n",
      "Parágrafo 2:\n",
      "Em ciência da informação, o livro é chamado monografia, para distingui-lo de outros tipos de publicações como revistas, periódicos, teses, tesauros, artigos etc.\n",
      "\n",
      "Parágrafo 3:\n",
      "O livro é um produto intelectual e, como tal, encerra conhecimento e expressões individuais ou coletivas. Mas também é nos dias de hoje um produto de consumo, um bem. Portanto, a parte final de sua produção é realizada por meios industriais (impressão e distribuição), envolvendo também o design de livros. A tarefa de criar um conteúdo passível de ser transformado em livro é tarefa do autor. Já a produção dos livros, no que concerne a transformar os originais num produto comercializável, é tarefa do editor, em geral contratado por uma editora. A coleta, a organização e a indexação de coleções de livros, por outro lado, é típica do bibliotecário. Finalmente, destaca-se também o livreiro, cuja função principal é disponibilizar os livros editados ao público em geral, vendendo-os nas livrarias generalistas ou de especialidade. Compete também ao livreiro todo o trabalho de pesquisa que vá ao encontro da vontade dos leitores.\n",
      "\n",
      "Parágrafo 4:\n",
      "A história do livro é uma história de inovações técnicas que permitiram a melhora da conservação dos volumes e do acesso à informação, da facilidade em manuseá-lo e produzi-lo. Esta história está intimamente ligada às contingências político-econômicas e à história de ideias e religiões.\n",
      "\n",
      "Parágrafo 5:\n",
      "A escrita surgiu na antiguidade, antecedente ao texto e ao livro. A escrita consiste em um de código capaz de transmitir e conservar noções abstratas ou valores concretos, em suma, palavras. É importante destacar que o meio condiciona o signo, ou seja, a escrita foi em alguns momentos orientada por esse tipo de suporte; não é possível esculpir em papel ou escrever em mármore, por exemplo.\n",
      "\n",
      "Parágrafo 6:\n",
      "Os primeiros suportes utilizados para a escrita foram tabuletas de argila ou de pedra em escrita cuneiforme encontradas na Mesopotâmia. O livro mais antigo conhecido é o Instruções a Xurupaque (c2600-c2500). Considerando as limitações que os suportes materiais possuíam, os livros da Idade do Bronze eram relativamente curtos. A Epopeia de Gilgamesh, por exemplo, é a maior obra literária em tabuletas de argila, e suas traduções ocidentais não chegam a 16 mil palavras.\n",
      "\n",
      "Parágrafo 7:\n",
      "Mais tarde veio o khartés, (volumen para os romanos, forma pela qual ficou mais conhecido) que consistia em um cilindro de papiro, facilmente transportável. O \"volumen\" era desenrolado conforme ia sendo lido, e o texto era escrito na maioria das vezes em colunas, e não no sentido do eixo cilíndrico. Algumas vezes, um mesmo cilindro continha várias obras e, por conta disso, era denominado tomo. O comprimento total de um \"volumen\" era de c. 6 ou 7 metros, e quando enrolado seu diâmetro chegava a seis centímetros.\n",
      "\n",
      "Parágrafo 8:\n",
      "O papiro consiste em uma parte da planta, que era liberada, livrada (latim libere, livre) do restante da planta - daí surge a palavra liber libri, em latim, e posteriormente livro em português. Os fragmentos de papiros mais \"recentes\" são datados do século II a.C..\n",
      "\n",
      "Parágrafo 9:\n",
      "Aos poucos o papiro é substituído pelo pergaminho, excerto de couro bovino ou de outros animais. A vantagem do pergaminho é que ele se conserva mais ao longo do tempo. O nome pergaminho deriva de Pérgamo, cidade da Ásia Menor onde teria sido inventado e onde era muito usado. O \"volumen\" também foi substituído pelo códex, que era uma compilação de páginas, não mais um rolo. O códex surgiu entre os gregos como forma de codificar as leis, mas foi aperfeiçoado pelos romanos nos primeiros anos da Era Cristã. O uso do formato códice (ou códice) e do pergaminho era complementar, pois era muito mais fácil costurar códices de pergaminho do que de papiro.\n",
      "\n",
      "Parágrafo 10:\n",
      "Uma consequência fundamental do códice é que ele faz com que se comece a pensar no livro como objeto, identificando definitivamente a obra com o livro.\n",
      "\n",
      "Parágrafo 11:\n",
      "A consolidação do códex acontece em Roma, como já citado. Em Roma a leitura ocorria tanto em público (para a plebe), evento chamado recitatio, como em particular, para os ricos. Além disso, é muito provável que em Roma tenha surgido pela primeira vez a leitura por lazer (voluptas), desvinculada do senso prático que a caracterizara até então. Os livros eram adquiridos em livrarias. Assim aparece também a figura do editor, com Atticus, homem de grande senso mercantil. Algumas obras eram encomendadas pelos governantes, como a Eneida, encomendada a Virgílio por Augusto.\n",
      "\n",
      "Parágrafo 12:\n",
      "Acredita-se que o sucesso da religião cristã se deve em grande parte ao surgimento do códice, pois a partir de então tornou-se mais fácil distribuir informações em forma escrita.\n",
      "\n",
      "Parágrafo 13:\n",
      "Na Idade Média o livro sofre um pouco, na Europa, as consequências do excessivo fervor religioso, e passa a ser considerado em si como um objeto de salvação. A característica mais marcante da Idade Média é o surgimento dos monges copistas, homens dedicados em período integral a reproduzir as obras, herdeiros dos escribas egípcios ou dos libraii romanos. Nos mosteiros era conservada a cultura da Antiguidade. Apareceram nessa época os textos didáticos, destinados à formação dos religiosos.\n",
      "\n",
      "Parágrafo 14:\n",
      "O livro continua sua evolução com o aparecimento de margens e páginas em branco. Também surge a pontuação no texto, bem como o uso de letras maiúsculas. Também aparecem índices, sumários e resumos, e na categoria de gêneros, além do didático, aparecem os florilégios (coletâneas de vários autores), os textos auxiliares e os textos eróticos. Progressivamente aparecem livros em língua vernácula, rompendo com o monopólio do latim na literatura. O papel passa a substituir o pergaminho.\n",
      "\n",
      "Parágrafo 15:\n",
      "Mas a invenção mais importante, já no limite da Idade Média, foi a impressão, no século XIV. Consistia originalmente da gravação em blocos de madeira do conteúdo de cada página do livro; os blocos eram mergulhados em tinta, e o conteúdo transferido para o papel, produzindo várias cópias. Foi em 1405 surgia na China, por meio de Pi Sheng, a máquina impressora de tipos móveis, mas a tecnologia que provocaria uma revolução cultural moderna foi desenvolvida por Johannes Gutenberg.[2]\n",
      "\n",
      "Parágrafo 16:\n",
      "No Ocidente, em 1455, Johannes Gutenberg inventa a imprensa com tipos móveis reutilizáveis, o primeiro livro impresso nessa técnica foi a Bíblia em latim.[3][4] Houve certa resistência por parte dos copistas, pois a impressora punha em causa a sua ocupação. Mas com a impressora de tipos móveis, o livro popularizou-se definitivamente, tornando-se mais acessível pela redução enorme dos custos da produção em série.\n",
      "\n",
      "Parágrafo 17:\n",
      "Com o surgimento da imprensa desenvolveu-se a técnica da tipografia, da qual dependia a confiabilidade do texto e a capacidade do mesmo para atingir um grande público. As necessidades do tipo móvel exigiram um novo desenho de letras; caligrafias antigas, como a Carolíngea, estavam destinadas ao ostracismo, pois seu excesso de detalhes e fios delgados era impraticável, tecnicamente.\n",
      "\n",
      "Parágrafo 18:\n",
      "Uma das figuras mais importantes do início da tipografia é o italiano Aldus Manutius. Ele foi importante no processo de maturidade do projeto tipográfico, o que hoje chamaríamos de design gráfico ou editorial.[5] A maturidade desta nova técnica levou, entretanto, cerca de um século.\n",
      "\n",
      "Parágrafo 19:\n",
      "De acordo com a definição dada no início deste artigo, o livro deve ser composto de um grupo de páginas encadernadas e ser portável. Entretanto, mesmo não obedecendo a essas características, surgiu em fins do século XX o livro eletrônico, ou seja, o livro num suporte eletrônico computorizado.[6]\n",
      "\n",
      "Parágrafo 20:\n",
      "Existem livros eletrônicos disponíveis tanto para computadores de mesa quanto para computadores de mão, os palmtops ou tablets. Uma dificuldade que o livro eletrônico encontra é que a leitura num suporte de papel é cerca de 1,2 vez mais rápida do que em um suporte eletrônico, mas pesquisas vêm sendo feitas no sentido de melhorar a visualização dos livros eletrônicos.\n",
      "\n",
      "Parágrafo 21:\n",
      "A criação do conteúdo de um livro pode ser realizada tanto por um autor sozinho quanto por uma equipe de colaboradores, pesquisadores, co-autores e ilustradores. Tendo o manuscrito terminado, inicia a busca de uma editora que se interesse pela publicação da obra (caso não tenha sido encomendada). O autor oferece ao editor os direitos de reprodução industrial do manuscrito, cabendo a ele a publicação do manuscrito em livro. As suas funções do editor são intelectuais e econômicas: deve selecionar um conteúdo de valor e que seja vendável em quantidade passível de gerar lucros ou mais-valias para a empresa. Modernamente o desinteresse de editores comerciais por obras de valor mas sem garantias de lucros tem sido compensado pela atuação de editoras universitárias (pelo menos no que tange a trabalhos científicos e artísticos).[7]\n",
      "\n",
      "Parágrafo 22:\n",
      "Cabe ao editor sugerir alterações ao autor, com vista a ajustar o livro ao mercado. Essas alterações podem passar pela editoração do texto, ou pelo acréscimo de elementos que possam beneficiar a utilização/comercialização do mesmo pelo leitor. Uma editora é composta pelo Departamento editorial, de produção, comercial, de Marketing, assim como vários outros serviços necessários ao funcionamento de uma empresa, podendo variar consoante as funções e serviços exercidos pela empresa. Na mesma trabalham os editores, revisores, gráficos e designers, capistas, etc. Uma editora não é necessariamente o produtor do livro, sendo que quase sempre essa função de reprodução mecânica de um original editado é feita por oficinas gráficas em regime de prestação de serviço. Dessa forma, o trabalho industrial principal de uma editora é confeccionar o modelo de livro-objeto, trabalho que se dá através dos processos de edição e composição gráfica/digital.[8]\n",
      "\n",
      "Parágrafo 23:\n",
      "A fase de produção do livro é composta pela impressão (posterior à imposição e montagem em caderno - hoje em dia digital), o alceamento e o encapamento. Podendo ainda existir várias outras funções adicionais de acréscimo de valor ao produto, nomeadamente à capa, com a plastificação, relevos, pigmentação, e outros acabamentos.\n",
      "\n",
      "Parágrafo 24:\n",
      "Terminada a edição do livro, ele é embalado e distribuído, sendo encaminhado para os diferentes canais de venda, como os livreiros, para daí chegar ao público final.\n",
      "\n",
      "Parágrafo 25:\n",
      "Pelo exposto acima, talvez devêssemos considerar que a categoria livro seja a concepção de uma coleção de registros em algum suporte capaz de transmitir e conservar noções abstratas ou valores concretos.\n",
      "\n",
      "Parágrafo 26:\n",
      "No início de 2007, foi noticiada a invenção e fabricação, na Alemanha, de um papel eletrônico, no qual são escritos livros.[9][10]\n",
      "\n",
      "Parágrafo 27:\n",
      "Segundo o Google, em pesquisa publicada no dia 6 de agosto de 2010, existem no mundo 129 864 880 livros.[11]\n",
      "\n",
      "Parágrafo 28:\n",
      "Os livros atualmente podem ser classificados de acordo com seu conteúdo em duas grandes categorias: livros de leitura sequencial e obras de referência.[12]\n",
      "\n",
      "Parágrafo 29:\n",
      "Não é raro que se procure uma indicação de clássicos da literatura. Em 1994, o crítico americano Harold Bloom publicou a obra O Cânone Ocidental, em que discutia a influência dos grandes livros na formação do gosto e da mentalidade do ocidente. Bloom considera a tendência de se abandonar o esforço em se criar cânones culturais nas universidades, para evitar problemas ideológicos, problemática para o futuro da educação, existe também uma das maiores obras do tipo no mundo escrita pelo austro-brasileiro Otto Maria Carpeaux no princípio da década de 1940 a chamada História da Literatura Ocidental.\n",
      "\n"
     ]
    }
   ],
   "source": [
    "url = 'https://pt.wikipedia.org/wiki/Livro'\n",
    "texto_livros = extract_text(url)\n",
    "paragrafos_array = list(texto_livros)\n",
    "# Imprime cada parágrafo\n",
    "for i, texto_livro in enumerate(texto_livros):\n",
    "    print(f\"Parágrafo {i+1}:\\n{texto_livro}\\n\")"
   ]
  },
  {
   "cell_type": "code",
   "execution_count": 93,
   "id": "32c091b4",
   "metadata": {
    "scrolled": true
   },
   "outputs": [
    {
     "name": "stdout",
     "output_type": "stream",
     "text": [
      "Parágrafo 1:\n",
      "['latim liber', 'objeto transportável', 'páginas', 'concebido']\n",
      "Parágrafo 2:\n",
      "['artigos etc', 'periódicos', 'informação']\n",
      "Parágrafo 3:\n",
      "['encerra conhecimento', 'livros', 'tarefa', 'função']\n",
      "Parágrafo 4:\n",
      "['inovações técnicas', 'livro']\n",
      "Parágrafo 5:\n",
      "['escrita surgiu', 'antiguidade', 'texto', 'noções']\n",
      "Parágrafo 6:\n",
      "['escrita cuneiforme', 'traduções ocidentais']\n",
      "Parágrafo 7:\n",
      "['facilmente transportável', 'veio']\n",
      "Parágrafo 8:\n",
      "['daí surge', 'liber libri', 'planta']\n",
      "Parágrafo 9:\n",
      "['couro bovino', 'excerto', 'animais']\n",
      "Parágrafo 10:\n",
      "['identificando definitivamente', 'livro']\n",
      "Parágrafo 11:\n",
      "['códex acontece', 'Roma', 'tenha surgido']\n",
      "Parágrafo 12:\n",
      "['religião cristã']\n",
      "Parágrafo 13:\n",
      "['Idade Média', 'livro sofre', 'salvação', 'Antiguidade', 'homens']\n",
      "Parágrafo 14:\n",
      "['livro continua', 'textos', 'maiúsculas']\n",
      "Parágrafo 15:\n",
      "['Idade Média', 'século XIV', 'importante', 'blocos eram', 'gravação']\n",
      "Parágrafo 16:\n",
      "['Johannes Gutenberg', 'livro impresso', 'Bíblia']\n",
      "Parágrafo 17:\n",
      "['imprensa desenvolveu-se', 'tipografia', 'público']\n",
      "Parágrafo 18:\n",
      "['Aldus Manutius', 'técnica levou', 'design gráfico']\n",
      "Parágrafo 19:\n",
      "['definição dada', 'portável', 'obedecendo']\n",
      "Parágrafo 20:\n",
      "['Existem livros', 'mesa']\n",
      "Parágrafo 21:\n",
      "['autor sozinho', 'pesquisadores', 'oferece']\n",
      "Parágrafo 22:\n",
      "['editor sugerir', 'Cabe', 'utilização', 'beneficiar', 'mesmo']\n",
      "Parágrafo 23:\n",
      "['impressão', 'digital', 'alceamento', 'valor']\n",
      "Parágrafo 24:\n",
      "['sendo encaminhado']\n",
      "Parágrafo 25:\n",
      "['exposto acima', 'algum suporte', 'concretos']\n",
      "Parágrafo 26:\n",
      "['papel eletrônico', 'escritos livros.']\n",
      "Parágrafo 27:\n",
      "['pesquisa publicada', 'livros.', 'Google']\n",
      "Parágrafo 28:\n",
      "['leitura sequencial', 'acordo']\n",
      "Parágrafo 29:\n",
      "['Literatura Ocidental', 'Bloom publicou', 'indicação', 'Cânone']\n"
     ]
    }
   ],
   "source": [
    "for i, paragrafo_array in enumerate(paragrafos_array):\n",
    "    top_keywords = extract_top_keywords(paragrafo_array)\n",
    "    print(f\"Parágrafo {i+1}:\")\n",
    "    print(top_keywords)"
   ]
  },
  {
   "cell_type": "code",
   "execution_count": null,
   "id": "a05d3a09",
   "metadata": {
    "scrolled": true
   },
   "outputs": [],
   "source": []
  },
  {
   "cell_type": "code",
   "execution_count": null,
   "id": "077f959f",
   "metadata": {},
   "outputs": [],
   "source": []
  },
  {
   "cell_type": "code",
   "execution_count": null,
   "id": "c6884d22",
   "metadata": {},
   "outputs": [],
   "source": []
  },
  {
   "cell_type": "code",
   "execution_count": null,
   "id": "32771f74",
   "metadata": {},
   "outputs": [],
   "source": []
  }
 ],
 "metadata": {
  "kernelspec": {
   "display_name": "Python 3 (ipykernel)",
   "language": "python",
   "name": "python3"
  },
  "language_info": {
   "codemirror_mode": {
    "name": "ipython",
    "version": 3
   },
   "file_extension": ".py",
   "mimetype": "text/x-python",
   "name": "python",
   "nbconvert_exporter": "python",
   "pygments_lexer": "ipython3",
   "version": "3.10.12"
  }
 },
 "nbformat": 4,
 "nbformat_minor": 5
}
